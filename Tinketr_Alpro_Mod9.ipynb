{
 "cells": [
  {
   "cell_type": "markdown",
   "metadata": {},
   "source": [
    "# **Tkinter**"
   ]
  },
  {
   "cell_type": "markdown",
   "metadata": {},
   "source": [
    "**Tkinter** adalah pembungkus untuk toolkit GUI bernama Tk. Toolkit ini biasanya digunakan melalui bahasa\n",
    "pemrograman Tcl, tetapi tkinter memungkinkan kita menggunakan Tcl dan Tk melalui Python."
   ]
  },
  {
   "cell_type": "markdown",
   "metadata": {},
   "source": [
    "### **Menggunakan tk**"
   ]
  },
  {
   "cell_type": "code",
   "execution_count": 7,
   "metadata": {},
   "outputs": [],
   "source": [
    "import tkinter as tk\n",
    "from tkinter import ttk\n",
    "\n",
    "root = tk.Tk()\n",
    "label = tk.Label(root, text=\"Hello World!\")\n",
    "label.pack()\n",
    "root.mainloop()\n",
    "\n",
    "#output akan berbentuk jendela yang keluar di layar"
   ]
  },
  {
   "cell_type": "markdown",
   "metadata": {},
   "source": [
    "Penjelasan:\n",
    "\n",
    "- **tk.Tk()**: Membuat jendela utama.\n",
    "- **tk.Label**: Widget untuk menampilkan teks.\n",
    "- **pack()**: Menambahkan widget ke dalam jendela."
   ]
  },
  {
   "cell_type": "markdown",
   "metadata": {},
   "source": [
    "### **Menggunakan ttk (Themed Tkinter)**"
   ]
  },
  {
   "cell_type": "markdown",
   "metadata": {},
   "source": [
    "Ada pustaka Tcl bernama Ttk, singkatan dari \"themed tk. Modul tkinter.ttk menyediakan berbagai hal untuk menggunakan Ttk dengan Python. Berikut adalah\n",
    "contoh program tkinter yang menampilkan dua tombol yang tidak melakukan apa-apa saat diklik."
   ]
  },
  {
   "cell_type": "code",
   "execution_count": null,
   "metadata": {},
   "outputs": [],
   "source": [
    "root = tk.Tk()\n",
    "big_frame = ttk.Frame(root)\n",
    "big_frame.pack(fill='both', expand=True)\n",
    "\n",
    "label = ttk.Label(big_frame, text=\"Hello World!\")\n",
    "label.pack()\n",
    "root.mainloop()"
   ]
  },
  {
   "cell_type": "code",
   "execution_count": 8,
   "metadata": {},
   "outputs": [],
   "source": [
    "root = tk.Tk()\n",
    "tk.Button(root, text=\"Click me\").pack()\n",
    "ttk.Button(root, text=\"Click me\").pack()\n",
    "root.mainloop()"
   ]
  },
  {
   "cell_type": "code",
   "execution_count": 14,
   "metadata": {},
   "outputs": [],
   "source": [
    "def change_text():\n",
    "    if label['text'] == 'Hello':\n",
    "        label['text'] = 'World'\n",
    "    else:\n",
    "        label['text'] = 'Hello'\n",
    "\n",
    "root = tk.Tk()\n",
    "big_frame = ttk.Frame(root)\n",
    "big_frame.pack(fill='both', expand=True)\n",
    "\n",
    "label = ttk.Label(big_frame, text='Hello')\n",
    "label.pack()\n",
    "\n",
    "button = ttk.Button(big_frame, text=\"Click here\", command=change_text)\n",
    "button.pack()\n",
    "\n",
    "root.mainloop()"
   ]
  },
  {
   "cell_type": "code",
   "execution_count": 16,
   "metadata": {},
   "outputs": [],
   "source": [
    "root = tkinter.Tk()\n",
    "big_frame = ttk.Frame(root)\n",
    "big_frame.pack(fill='both', expand=True)\n",
    "# sekarang tambahkan semua widget ke big_frame, bukan ke root"
   ]
  },
  {
   "cell_type": "code",
   "execution_count": 17,
   "metadata": {},
   "outputs": [],
   "source": [
    "root = tkinter.Tk()\n",
    "big_frame = ttk.Frame(root)\n",
    "big_frame.pack(fill='both', expand=True)\n",
    "label = ttk.Label(big_frame, text=\"Hello World!\")\n",
    "label.pack()\n",
    "root.mainloop()"
   ]
  },
  {
   "cell_type": "markdown",
   "metadata": {},
   "source": [
    "### **Prompt**"
   ]
  },
  {
   "cell_type": "markdown",
   "metadata": {},
   "source": [
    "Prompt >>> adalah cara yang hebat untuk bereksperimen dengan berbagai hal. Anda juga dapat mencoba tkinter di prompt, tetapi sayangnya itu tidak berfungsi dengan baik di semua platform."
   ]
  },
  {
   "cell_type": "code",
   "execution_count": 20,
   "metadata": {},
   "outputs": [
    {
     "name": "stdout",
     "output_type": "stream",
     "text": [
      ".!frame.!label\n"
     ]
    }
   ],
   "source": [
    "print(label)"
   ]
  },
  {
   "cell_type": "code",
   "execution_count": 24,
   "metadata": {},
   "outputs": [
    {
     "name": "stdout",
     "output_type": "stream",
     "text": [
      ".!frame.!label\n",
      "<tkinter.ttk.Label object .!frame.!label>\n"
     ]
    }
   ],
   "source": [
    "label\n",
    "str(label)\n",
    "print(label)\n",
    "print(repr(label))"
   ]
  }
 ],
 "metadata": {
  "kernelspec": {
   "display_name": "Python 3",
   "language": "python",
   "name": "python3"
  },
  "language_info": {
   "codemirror_mode": {
    "name": "ipython",
    "version": 3
   },
   "file_extension": ".py",
   "mimetype": "text/x-python",
   "name": "python",
   "nbconvert_exporter": "python",
   "pygments_lexer": "ipython3",
   "version": "3.13.0"
  }
 },
 "nbformat": 4,
 "nbformat_minor": 2
}
