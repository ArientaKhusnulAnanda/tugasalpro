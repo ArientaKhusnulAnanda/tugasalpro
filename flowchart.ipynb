{
 "cells": [
  {
   "cell_type": "code",
   "execution_count": 5,
   "metadata": {},
   "outputs": [
    {
     "data": {
      "text/plain": [
       "'/mnt/data/flowchart_tugas_ads.png'"
      ]
     },
     "execution_count": 5,
     "metadata": {},
     "output_type": "execute_result"
    }
   ],
   "source": [
    "from graphviz import Digraph\n",
    "\n",
    "# Create a flowchart\n",
    "flowchart = Digraph(format='png', graph_attr={'rankdir': 'TB'}, node_attr={'shape': 'rectangle'})\n",
    "\n",
    "# Add nodes for each step in the process\n",
    "flowchart.node('Start', 'Mulai')\n",
    "flowchart.node('Input', 'Input Data (File Excel)')\n",
    "flowchart.node('Summary', 'Ringkasan Data')\n",
    "flowchart.node('Scatter', 'Visualisasi (Scatterplot)')\n",
    "flowchart.node('Correlation', 'Analisis Korelasi')\n",
    "flowchart.node('Regression', 'Model Regresi')\n",
    "flowchart.node('Normality', 'Uji Normalitas')\n",
    "flowchart.node('Hetero', 'Uji Heteroskedastisitas')\n",
    "flowchart.node('Autocorrelation', 'Uji Autokorelasi')\n",
    "flowchart.node('End', 'Selesai')\n",
    "\n",
    "# Connect the nodes\n",
    "flowchart.edges([\n",
    "    ('Start', 'Input'),\n",
    "    ('Input', 'Summary'),\n",
    "    ('Summary', 'Scatter'),\n",
    "    ('Scatter', 'Correlation'),\n",
    "    ('Correlation', 'Regression'),\n",
    "    ('Regression', 'Normality'),\n",
    "    ('Normality', 'Hetero'),\n",
    "    ('Hetero', 'Autocorrelation'),\n",
    "    ('Autocorrelation', 'End')\n",
    "])\n",
    "\n",
    "# Render the flowchart\n",
    "output_path = '/mnt/data/flowchart_tugas_ads'\n",
    "flowchart.render(output_path)\n",
    "\n",
    "output_path + '.png'\n"
   ]
  }
 ],
 "metadata": {
  "kernelspec": {
   "display_name": "Python 3",
   "language": "python",
   "name": "python3"
  },
  "language_info": {
   "codemirror_mode": {
    "name": "ipython",
    "version": 3
   },
   "file_extension": ".py",
   "mimetype": "text/x-python",
   "name": "python",
   "nbconvert_exporter": "python",
   "pygments_lexer": "ipython3",
   "version": "3.13.0"
  }
 },
 "nbformat": 4,
 "nbformat_minor": 2
}
